{
 "cells": [
  {
   "cell_type": "code",
   "execution_count": 31,
   "id": "5748c495-02b0-4642-9d99-aedf949f5af4",
   "metadata": {},
   "outputs": [],
   "source": [
    "from kafka import KafkaConsumer\n",
    "from time import sleep\n",
    "import json\n",
    "from json import dumps, loads\n",
    "!pip install s3fs\n",
    "from s3fs import S3FileSystem"
   ]
  },
  {
   "cell_type": "code",
   "execution_count": null,
   "id": "11a301b9-57e6-4d92-a6ff-9de27f56a8bd",
   "metadata": {},
   "outputs": [],
   "source": [
    "consumer = KafkaConsumer('stock_test',\n",
    "                         bootstrap_servers = [':9092'],\n",
    "                         value_deserializer=lambda x: loads(x.decode('utf-8')))\n",
    "s3 = S3FileSystem()\n",
    "for count, i in enumerate(consumer):\n",
    "     with s3.open(\"/s3/buckets/stock-market-analysis-pat/stock_market_{}.json\".format(count), 'w') as file:\n",
    "        json.dump(i.value, file)"
   ]
  },
  {
   "cell_type": "code",
   "execution_count": null,
   "id": "9634171e-cb28-43d3-ab6d-f81f0ddffa64",
   "metadata": {},
   "outputs": [],
   "source": []
  }
 ],
 "metadata": {
  "kernelspec": {
   "display_name": "Python [conda env:base] *",
   "language": "python",
   "name": "conda-base-py"
  },
  "language_info": {
   "codemirror_mode": {
    "name": "ipython",
    "version": 3
   },
   "file_extension": ".py",
   "mimetype": "text/x-python",
   "name": "python",
   "nbconvert_exporter": "python",
   "pygments_lexer": "ipython3",
   "version": "3.12.7"
  }
 },
 "nbformat": 4,
 "nbformat_minor": 5
}
