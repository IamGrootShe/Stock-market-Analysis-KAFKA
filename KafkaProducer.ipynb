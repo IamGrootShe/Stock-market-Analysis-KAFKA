{
 "cells": [
  {
   "cell_type": "code",
   "execution_count": 78,
   "id": "09aa8ebe-eb23-4c3b-ac8e-14deb0167e59",
   "metadata": {},
   "outputs": [
    {
     "name": "stdout",
     "output_type": "stream",
     "text": [
      "Note: you may need to restart the kernel to use updated packages.\n",
      "Requirement already satisfied: kafka-python in c:\\users\\91821\\anaconda3\\lib\\site-packages (2.0.3)\n"
     ]
    }
   ],
   "source": [
    "pip install kafka-python"
   ]
  },
  {
   "cell_type": "code",
   "execution_count": null,
   "id": "50b61ae6-13ce-47a3-8409-10f83ccb5ca0",
   "metadata": {},
   "outputs": [],
   "source": [
    "import pandas as pd\n",
    "from kafka import KafkaConsumer, KafkaProducer\n",
    "from time import sleep\n",
    "from json import dumps\n",
    "import json\n",
    "# producer  = KafkaProducer(bootstrap_servers=['51.21.130.172:9092'],\n",
    "#                           value_serializer=lambda x:\n",
    "#                             dumps(x).encode('utf-8'))\n",
    "\n",
    "producer = KafkaProducer(bootstrap_servers=[':9092'],\n",
    "                         value_serializer=lambda x: \n",
    "                         dumps(x).encode('utf-8'))\n",
    "df = pd.read_csv('indexProcessed.csv')\n",
    "while True:\n",
    "    dict_stock = df.sample(1).to_dict(orient= \"records\")[0]\n",
    "    producer.send('stock_test', value=dict_stock)"
   ]
  },
  {
   "cell_type": "code",
   "execution_count": null,
   "id": "506b510d-9b82-45bc-a83d-d6f7ea7d47c5",
   "metadata": {},
   "outputs": [],
   "source": [
    "producer.flush()"
   ]
  }
 ],
 "metadata": {
  "kernelspec": {
   "display_name": "Python [conda env:base] *",
   "language": "python",
   "name": "conda-base-py"
  },
  "language_info": {
   "codemirror_mode": {
    "name": "ipython",
    "version": 3
   },
   "file_extension": ".py",
   "mimetype": "text/x-python",
   "name": "python",
   "nbconvert_exporter": "python",
   "pygments_lexer": "ipython3",
   "version": "3.12.7"
  }
 },
 "nbformat": 4,
 "nbformat_minor": 5
}
